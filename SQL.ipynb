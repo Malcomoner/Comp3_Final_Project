{
 "cells": [
  {
   "cell_type": "markdown",
   "metadata": {},
   "source": [
    "For the SQL portion of the project, we are first importing all the necessary packages. We will be using `os`,`sqlite3`, `json`, and `pandas`. We then check we are in the correct directory using `os.getcwd()`."
   ]
  },
  {
   "cell_type": "code",
   "execution_count": 1,
   "metadata": {},
   "outputs": [
    {
     "data": {
      "text/plain": [
       "'/Users/andrewtamez/Desktop/NPS/OA3802_Comp3/Final_Project'"
      ]
     },
     "execution_count": 1,
     "metadata": {},
     "output_type": "execute_result"
    }
   ],
   "source": [
    "import os\n",
    "import sqlite3\n",
    "import json\n",
    "import pandas as pd\n",
    "os.getcwd()"
   ]
  },
  {
   "cell_type": "markdown",
   "metadata": {},
   "source": [
    "First, we must establish a connection to the the SQL table we wish to create. Our data includes over 3 million data points with each table being 1 million points. We wil use \n",
    "\n",
    "`conn=sqlite3.connect('name_of_db.db')`\n",
    "\n",
    "replace the name_of_db with the name you wish. \n",
    "\n",
    "We then create a cursor to allow use to query later in the code."
   ]
  },
  {
   "cell_type": "code",
   "execution_count": 7,
   "metadata": {},
   "outputs": [],
   "source": [
    "conn = sqlite3.connect('Football_stats.db')\n",
    "cursor = conn.cursor()"
   ]
  },
  {
   "cell_type": "markdown",
   "metadata": {},
   "source": [
    "Since we have our JSON files from our finalcalc code, we will import them so we can use the data to upload to our SQL table.\n",
    "\n",
    "We will use:\n",
    "\n",
    "`json_filename = 'filename.json`\n",
    "`with open(json_filename, 'r') as f:`\n",
    "    `filename.data =json.load(f)`\n",
    "\n",
    "In our case here, we want to read the file. Ensure you are using `r` in the `with open`. "
   ]
  },
  {
   "cell_type": "code",
   "execution_count": 4,
   "metadata": {},
   "outputs": [],
   "source": [
    "json_superbowl = 'superbowl.json' \n",
    "with open(json_superbowl, 'r') as f:\n",
    "    superbowl_data = json.load(f)\n",
    "json_cc = 'ccwins.json' \n",
    "with open(json_cc, 'r') as f:\n",
    "    cc_data = json.load(f)\n",
    "json_playoffs = 'playoffs.json' \n",
    "with open(json_playoffs, 'r') as f:\n",
    "    playoffs_data = json.load(f)"
   ]
  },
  {
   "cell_type": "markdown",
   "metadata": {},
   "source": [
    "Now that we have our data, we want to create a table for each of the datasets. \n",
    "\n",
    "Using  `cursor.execute(f\"CREATE TABLE IF NOT EXISTS Superbowl ({', '.join(columns)})\")` allows us to create a table within the database. In our case, Superbowl is the name of the table but you are able to rename it to the table you wish. \n",
    "\n",
    "We then loop through our data to ensure we add it to our table via various assignments. \n",
    "\n",
    "Finally we use `cursor.execute(INSERT INTO table_name({', '.join(column_names)}) VALUES ({placeholders})\", values)` that allows us to insert the data. We do this for each of the data sets. \n"
   ]
  },
  {
   "cell_type": "code",
   "execution_count": 12,
   "metadata": {},
   "outputs": [],
   "source": [
    "columns = [\"QB\", \"TE\", \"DL\", \"P\", \"OL\", \"LB\", \"WR\", \"SEC\", \"K\", \"LS\", \n",
    "    \"RB\", \"predicted_probability\"]\n",
    "\n",
    "#Create table with the specified columns\n",
    "cursor.execute(f\"CREATE TABLE IF NOT EXISTS Superbowl ({', '.join(columns)})\")\n",
    "cursor.execute(f\"CREATE TABLE IF NOT EXISTS CC ({', '.join(columns)})\")\n",
    "cursor.execute(f\"CREATE TABLE IF NOT EXISTS Playoffs ({', '.join(columns)})\")\n",
    "\n",
    "#Insert data into the table with specified column names\n",
    "for record in superbowl_data:\n",
    "    spending = record['spending_percentages']\n",
    "    predicted_probability = record['predicted_probability']\n",
    "    \n",
    "    # Prepare column names and values for insertion\n",
    "    column_names = list(spending.keys()) + ['predicted_probability']\n",
    "    values = list(spending.values()) + [predicted_probability]\n",
    "    placeholders = \", \".join([\"?\"] * len(column_names))\n",
    "    \n",
    "    #Insert the record into the table with explicit column names\n",
    "    cursor.execute(f\"INSERT INTO Superbowl ({', '.join(column_names)}) VALUES ({placeholders})\", values)\n",
    "\n",
    "for record in cc_data:\n",
    "    spending = record['spending_percentages']\n",
    "    predicted_probability = record['predicted_probability']\n",
    "    \n",
    "    # Prepare column names and values for insertion\n",
    "    column_names = list(spending.keys()) + ['predicted_probability']\n",
    "    values = list(spending.values()) + [predicted_probability]\n",
    "    placeholders = \", \".join([\"?\"] * len(column_names))\n",
    "    \n",
    "    # Insert the record into the table with explicit column names\n",
    "    cursor.execute(f\"INSERT INTO CC ({', '.join(column_names)}) VALUES ({placeholders})\", values)\n",
    "\n",
    "for record in playoffs_data:\n",
    "    spending = record['spending_percentages']\n",
    "    predicted_probability = record['predicted_probability']\n",
    "    \n",
    "    # Prepare column names and values for insertion\n",
    "    column_names = list(spending.keys()) + ['predicted_probability']\n",
    "    values = list(spending.values()) + [predicted_probability]\n",
    "    placeholders = \", \".join([\"?\"] * len(column_names))\n",
    "    \n",
    "    # Insert the record into the table with explicit column names\n",
    "    cursor.execute(f\"INSERT INTO Playoffs ({', '.join(column_names)}) VALUES ({placeholders})\", values)\n"
   ]
  },
  {
   "cell_type": "markdown",
   "metadata": {},
   "source": [
    "This next step allows us to take the average of each column for specified probabilites in the 90th percentile determined when running our finalcalc code. \n",
    "\n",
    "We create a `query = SELECT AVG(column_name) FROM table_name WHERE condition`. \n",
    "\n",
    "We are taking the average from the specified table where the condition is met. \n",
    "\n",
    "We then run `cursor1.execute(query1)` to execute the action of the query using our cursor.  "
   ]
  },
  {
   "cell_type": "code",
   "execution_count": null,
   "metadata": {},
   "outputs": [
    {
     "data": {
      "text/plain": [
       "<sqlite3.Cursor at 0x35d6fecc0>"
      ]
     },
     "execution_count": 16,
     "metadata": {},
     "output_type": "execute_result"
    }
   ],
   "source": [
    "query1 = \"\"\"\n",
    "    SELECT \n",
    "        AVG(QB) AS avg_QB,\n",
    "        AVG(TE) AS avg_TE,\n",
    "        AVG(DL) AS avg_DL,\n",
    "        AVG(P) AS avg_P,\n",
    "        AVG(OL) AS avg_OL,\n",
    "        AVG(LB) AS avg_LB,\n",
    "        AVG(WR) AS avg_WR,\n",
    "        AVG(SEC) AS avg_SEC,\n",
    "        AVG(K) AS avg_K,\n",
    "        AVG(LS) AS avg_LS,\n",
    "        AVG(RB) AS avg_RB,\n",
    "        AVG(predicted_probability) AS avg_predicted_probability\n",
    "    FROM SuperBowl\n",
    "    WHERE predicted_probability >= 0.56221 AND predicted_probability <= 0.59018\n",
    "\"\"\"\n",
    "query2 = \"\"\"\n",
    "    SELECT \n",
    "        AVG(QB) AS avg_QB,\n",
    "        AVG(TE) AS avg_TE,\n",
    "        AVG(DL) AS avg_DL,\n",
    "        AVG(P) AS avg_P,\n",
    "        AVG(OL) AS avg_OL,\n",
    "        AVG(LB) AS avg_LB,\n",
    "        AVG(WR) AS avg_WR,\n",
    "        AVG(SEC) AS avg_SEC,\n",
    "        AVG(K) AS avg_K,\n",
    "        AVG(LS) AS avg_LS,\n",
    "        AVG(RB) AS avg_RB,\n",
    "        AVG(predicted_probability) AS avg_predicted_probability\n",
    "    FROM CC\n",
    "    WHERE predicted_probability >= 0.57028 AND predicted_probability <= 0.60272\n",
    "\"\"\"\n",
    "query3 = \"\"\"\n",
    "    SELECT \n",
    "        AVG(QB) AS avg_QB,\n",
    "        AVG(TE) AS avg_TE,\n",
    "        AVG(DL) AS avg_DL,\n",
    "        AVG(P) AS avg_P,\n",
    "        AVG(OL) AS avg_OL,\n",
    "        AVG(LB) AS avg_LB,\n",
    "        AVG(WR) AS avg_WR,\n",
    "        AVG(SEC) AS avg_SEC,\n",
    "        AVG(K) AS avg_K,\n",
    "        AVG(LS) AS avg_LS,\n",
    "        AVG(RB) AS avg_RB,\n",
    "        AVG(predicted_probability) AS avg_predicted_probability\n",
    "    FROM Playoffs\n",
    "    WHERE predicted_probability >= 0.6188 AND predicted_probability <= 0.66913\n",
    "\"\"\"\n",
    "cursor.execute(query1)\n",
    "cursor.execute(query2)\n",
    "cursor.execute(query3)\n"
   ]
  },
  {
   "cell_type": "markdown",
   "metadata": {},
   "source": [
    "The following code executes the query and we print out the values to ensure our averages were correctly taken. \n",
    "\n",
    "to execute the query use `cursor.execute(query)` to run your specified query. \n",
    "\n",
    "To get the results you utilize `cursor.fetchall()`. Ensure you have them separated as running the the query execute then running the print statement for the rows will result in the `fetchall()` pulling the resutls for the last query execute. Lesson learned on my end but you shouldn't have this issue if you take my advice. "
   ]
  },
  {
   "cell_type": "code",
   "execution_count": 22,
   "metadata": {},
   "outputs": [
    {
     "name": "stdout",
     "output_type": "stream",
     "text": [
      "Results from Query 1:\n",
      "(0.13036518515132742, 0.1270989267621871, 0.11956545238149745, 0.10357541443849798, 0.10103137619853778, 0.08412322522002538, 0.08360935660361205, 0.07519518774680445, 0.06023277990680225, 0.058658229534283284, 0.05654486605642487, 0.5654055130218425)\n"
     ]
    }
   ],
   "source": [
    "cursor.execute(query1)\n",
    "print(\"Results from Query 1:\")\n",
    "results1 = cursor.fetchall()\n",
    "for row in results1:\n",
    "    print(row)"
   ]
  },
  {
   "cell_type": "code",
   "execution_count": 21,
   "metadata": {},
   "outputs": [
    {
     "name": "stdout",
     "output_type": "stream",
     "text": [
      "\n",
      "Results from Query 2:\n",
      "(0.10663027714782307, 0.11207340576591435, 0.1466884791289462, 0.08202482492449814, 0.09449916287632551, 0.06043498905869588, 0.06959857892282299, 0.09524366257241837, 0.11034540500371282, 0.06209098039557304, 0.06037023420326965, 0.5736377870696535)\n"
     ]
    }
   ],
   "source": [
    "cursor.execute(query2)\n",
    "print(\"\\nResults from Query 2:\")\n",
    "results2 = cursor.fetchall()\n",
    "for row in results2:\n",
    "    print(row)"
   ]
  },
  {
   "cell_type": "code",
   "execution_count": 20,
   "metadata": {},
   "outputs": [
    {
     "name": "stdout",
     "output_type": "stream",
     "text": [
      "\n",
      "Results from Query 3:\n",
      "(0.12533988355293924, 0.05854090591994142, 0.11963177842725703, 0.05850468689956796, 0.09141128114299166, 0.12627222844773142, 0.1017870662548892, 0.1098291616750712, 0.08137721823608958, 0.060024011079244065, 0.06728177836427728, 0.6250661862304845)\n"
     ]
    }
   ],
   "source": [
    "cursor.execute(query3)\n",
    "print(\"\\nResults from Query 3:\")\n",
    "results3 = cursor.fetchall()\n",
    "for row in results3:\n",
    "    print(row)\n"
   ]
  },
  {
   "cell_type": "markdown",
   "metadata": {},
   "source": [
    "Finally, to ensure the data is saved you must use `conn.commit` otherwise the changes you made will not be saved. \n",
    "\n",
    "Ensure you close out your cursor and conn otherwise there may be issues with you or someone else trying to access the database using `cursor.close()` and `conn.close()`. "
   ]
  },
  {
   "cell_type": "code",
   "execution_count": 23,
   "metadata": {},
   "outputs": [],
   "source": [
    "conn.commit()\n",
    "cursor.close()\n",
    "conn.close()"
   ]
  }
 ],
 "metadata": {
  "kernelspec": {
   "display_name": "base",
   "language": "python",
   "name": "python3"
  },
  "language_info": {
   "codemirror_mode": {
    "name": "ipython",
    "version": 3
   },
   "file_extension": ".py",
   "mimetype": "text/x-python",
   "name": "python",
   "nbconvert_exporter": "python",
   "pygments_lexer": "ipython3",
   "version": "3.12.5"
  }
 },
 "nbformat": 4,
 "nbformat_minor": 2
}
